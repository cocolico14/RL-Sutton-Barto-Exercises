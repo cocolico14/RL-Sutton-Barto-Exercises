{
 "cells": [
  {
   "cell_type": "markdown",
   "metadata": {},
   "source": [
    "# Policy Evaluation (Prediction)"
   ]
  },
  {
   "cell_type": "markdown",
   "metadata": {},
   "source": [
    "The initial approximation, $v_0$, is chosen arbitrarily\n",
    "(except that the terminal state, if any, must be given value 0), and each successive approximation is obtained by using the Bellman expectation equation for $v_{\\pi}$ as an update rule:"
   ]
  },
  {
   "cell_type": "markdown",
   "metadata": {},
   "source": [
    "\\begin{equation*}\n",
    "v_{k+1}(s) \\doteq  {\\mathbb{E}}_{\\pi} [R_{t+1} + \\gamma v_k(s')| S_t = s] = \\sum_{a}^{} \\pi(a|s) \\sum_{s', r}^{} p(s', r \\ |s, a) [r + \\gamma v_k(s')]\n",
    "\\end{equation*}"
   ]
  },
  {
   "cell_type": "markdown",
   "metadata": {},
   "source": [
    "for all $s \\in S$. Clearly, $v_k = v_{\\pi}$ is a fixed point for this update rule because the Bellman equation for $v_{\\pi}$ assures us of equality in this case. Indeed, the sequence $v_k$  can be shown in general to converge to $v_{\\pi}$ as $k \\rightarrow \\infty$ under the same conditions that guarantee the existence of $v_{\\pi}$ . This algorithm is called iterative policy evaluation."
   ]
  },
  {
   "cell_type": "markdown",
   "metadata": {},
   "source": [
    "Formally, iterative policy evaluation converges only in the limit, but in practice it must be halted short of this. As soon as $\\Delta = \\max_{s \\in S}|v_{k+1}(s)-v_k(s)|$ is less than threshold $\\theta$ the evaluation terminates."
   ]
  },
  {
   "cell_type": "markdown",
   "metadata": {},
   "source": [
    "- Input $\\pi$, the policy to be evaluated <br>\n",
    "- a small threshold $\\theta > 0$ determining accuracy of estimation Initialize $V(s)$, for all $s \\in S+$, arbitrarily except that $V(\\text{terminal}) = 0$ <br>\n",
    "- Loop: <br>\n",
    "    + $\\Delta \\leftarrow 0$\n",
    "    + Loop for each$s \\in S$\n",
    "        + $v \\leftarrow V(s)$\n",
    "        + $V(s) \\leftarrow \\sum_{a}^{} \\pi(a|s) \\sum_{s', r}^{} p(s', r \\ |s, a) [r + \\gamma V(s')]$\n",
    "        + $\\Delta \\leftarrow max(\\Delta, |v-V(s)|)$\n",
    "<br>\n",
    "- Until $\\Delta < \\theta$"
   ]
  },
  {
   "cell_type": "markdown",
   "metadata": {},
   "source": [
    "### Example 4.1 Grid World"
   ]
  },
  {
   "cell_type": "code",
   "execution_count": 4,
   "metadata": {},
   "outputs": [
    {
     "name": "stdout",
     "output_type": "stream",
     "text": [
      "[[0.0 -14.0 -20.0 -22.0]\n",
      " [-14.0 -18.0 -20.0 -20.0]\n",
      " [-20.0 -20.0 -18.0 -14.0]\n",
      " [-22.0 -20.0 -14.0 0.0]]\n"
     ]
    }
   ],
   "source": [
    "import numpy as np\n",
    "np.set_printoptions(formatter={'float': lambda x: \"{0:0.1f}\".format(x)})\n",
    "\n",
    "actions = [(0, -1), (0, 1), (1, 0), (-1, 0)]\n",
    "gamma = 1\n",
    "theta = 0.01\n",
    "policy = 0.25\n",
    "\n",
    "def p(state, action):\n",
    "    \n",
    "    next_state = (state[0] + action[0], state[1] + action[1])\n",
    "    if ((next_state[0] >= 0 and next_state[0] < 4) and\n",
    "        (next_state[1] >= 0 and next_state[1] < 4)):\n",
    "        return next_state, -1\n",
    "    return state, -1 # wall\n",
    "    \n",
    "v = np.zeros((4, 4))\n",
    "while True:\n",
    "    delta = 0 \n",
    "    for i in range(4):\n",
    "        for j in range(4):\n",
    "            if (i,j) == (0,0) or (i,j) == (3,3):\n",
    "                continue\n",
    "            v_prev = v[i, j]\n",
    "            tmp = 0\n",
    "            for a in actions:\n",
    "                n_s, r = p((i, j), a)\n",
    "                tmp += policy * (r + gamma * v[n_s[0], n_s[1]])\n",
    "            v[i, j] = tmp\n",
    "            delta = max(delta, abs(v[i, j]-v_prev))\n",
    "    if delta < theta:\n",
    "        break\n",
    "print(np.round(v))"
   ]
  },
  {
   "cell_type": "markdown",
   "metadata": {},
   "source": [
    "#### Exercise 4.1 In Example 4.1, if $\\pi$ is the equiprobable random policy, what is $q_{\\pi}(11,down)$? What is $q_{\\pi}(7,down)$?"
   ]
  },
  {
   "cell_type": "markdown",
   "metadata": {},
   "source": [
    "Answer : $r(s,a,s')=-1$ for all s,s' and actions, and this is an undiscounted episodic task. values of $v_{\\infty}$ are from figure 4.2 in book."
   ]
  },
  {
   "cell_type": "markdown",
   "metadata": {},
   "source": [
    "\\begin{align*}\n",
    "q_{\\pi}(s, a) = \\sum_{s', r}^{} p(s',r{\\space}|s, a)[r(s,a,s') + {\\gamma}v_{\\pi}(s')]\n",
    "\\end{align*}\n",
    "\\begin{align*}\n",
    "q_{\\pi}(11, \\text{down}) = -1 + 1\\times0 = -1\n",
    "\\end{align*}\n",
    "\\begin{align*}\n",
    "q_{\\pi}(7, \\text{down}) = -1 + 1\\times(-14) = -15\n",
    "\\end{align*}"
   ]
  },
  {
   "cell_type": "markdown",
   "metadata": {},
   "source": [
    "#### Exercise 4.2 In Example 4.1, suppose a new state 15 is added to the gridworld just below state 13, and its actions, left, up, right, and down, take the agent to states 12, 13, 14, and 15, respectively. Assume that the transitions from the original states are unchanged. What, then, is $v_{\\pi}(15)$ for the equiprobable random policy? Now suppose the dynamics of state 13 are also changed, such that action down from state 13 takes the agent to the new state 15. What is $v_{\\pi}(15)$ for the equiprobable random policy in this case?"
   ]
  },
  {
   "cell_type": "markdown",
   "metadata": {},
   "source": [
    "Answer:"
   ]
  },
  {
   "cell_type": "markdown",
   "metadata": {},
   "source": [
    "- unchanged"
   ]
  },
  {
   "cell_type": "markdown",
   "metadata": {},
   "source": [
    "\\begin{align*}\n",
    "v_0(15) = 0\n",
    "\\end{align*}\n",
    "\\begin{align*}\n",
    "v_{1}(15) = 0.25 \\times [(-21) + (-23) + (-15) + (-1)] = -15.0\n",
    "\\end{align*}\n",
    "\\begin{align*}\n",
    "v_{2}(15) = 0.25 \\times [(-21) + (-23) + (-15) + (-16)] = -18.75\n",
    "\\end{align*}\n",
    "\\begin{align*}\n",
    "...\n",
    "\\end{align*}\n",
    "\\begin{align*}\n",
    "v_{\\infty}(15) = -20\n",
    "\\end{align*}"
   ]
  },
  {
   "cell_type": "markdown",
   "metadata": {},
   "source": [
    "- 13 is also changing"
   ]
  },
  {
   "cell_type": "markdown",
   "metadata": {},
   "source": [
    "\\begin{align*}\n",
    "v_0(15) = 0\n",
    "\\end{align*}\n",
    "\\begin{align*}\n",
    "v_0(13) = -20\n",
    "\\end{align*}\n",
    "\\begin{align*}\n",
    "v_{1}(15) = 0.25 \\times [(-21) + (-23) + (-15) + (-1)] = -15\n",
    "\\end{align*}\n",
    "\\begin{align*}\n",
    "v_{1}(13) = 0.25 \\times [(-21) + (-23) + (-15) + (-16)] = -18.75\n",
    "\\end{align*}\n",
    "\\begin{align*}\n",
    "v_{1}(15) = 0.25 \\times [(-19.75) + (-23) + (-15) + (-16)] = -18.4375\n",
    "\\end{align*}\n",
    "\\begin{align*}\n",
    "v_{1}(13) = 0.25 \\times [(-19.75) + (-23) + (-15) + (-19.4375)] = -19.296875\n",
    "\\end{align*}\n",
    "\\begin{align*}\n",
    "...\n",
    "\\end{align*}\n",
    "\\begin{align*}\n",
    "v_{\\infty}(13) = -19.5\n",
    "\\end{align*}\n",
    "\\begin{align*}\n",
    "v_{\\infty}(15) = -19.5 \n",
    "\\end{align*}"
   ]
  },
  {
   "cell_type": "markdown",
   "metadata": {},
   "source": [
    "#### Exercise 4.3 What are the equations analogous to (4.3), (4.4), and (4.5) for the action- valuefunction $q_{\\pi}$ and its successive approximation by a sequence of functions $q_0$,$q_1$,$q_2$,...?"
   ]
  },
  {
   "cell_type": "markdown",
   "metadata": {},
   "source": [
    "Answer:"
   ]
  },
  {
   "cell_type": "markdown",
   "metadata": {},
   "source": [
    "\\begin{align*}\n",
    "q_{k+1}(s, a) = \\sum_{s', r}^{} p(s',r{\\space}|s, a)[r(s,a,s') + {\\gamma}\\sum_{a'}^{}\\pi(a'|s)q_{k}(s', a')]\n",
    "\\end{align*}"
   ]
  },
  {
   "cell_type": "markdown",
   "metadata": {},
   "source": [
    "# Policy Improvement"
   ]
  },
  {
   "cell_type": "markdown",
   "metadata": {},
   "source": [
    "Now that we know $v_{\\pi}$, let's try to find better policies. We can choose an action a in some state s that is not in our policy and thereafter following the existing policy, $\\pi$ (we call this new policy $\\pi'$). If this choice is better than following $\\pi$ all the  time $q_{\\pi}(s,\\pi'(s)) \\ge v_{\\pi}(s)$ than we can say that this new policy obtain greater or equal expected return from all states $s \\in S$. In other word $v_{\\pi'}(s) \\ge v_{\\pi}(s)$."
   ]
  },
  {
   "cell_type": "markdown",
   "metadata": {},
   "source": [
    "So far we have seen how, given a policy and its value function, we can easily evaluate a change in the policy at a single state to a particular action. It is a natural extension to consider changes at all states and to all possible actions, selecting at each state the action that appears best according to $q_{\\pi}(s,a)$. In other words, to consider the new greedy policy, $\\pi'$, given by"
   ]
  },
  {
   "cell_type": "markdown",
   "metadata": {},
   "source": [
    "\\begin{align*}\n",
    "\\pi'(s) = \\text{argmax}_a q_{\\pi}(s, a)\n",
    "\\end{align*}"
   ]
  },
  {
   "cell_type": "markdown",
   "metadata": {},
   "source": [
    "The greedy policy takes the action that looks best in the short term—after one step of lookahead—according to $v_{\\pi}$. so we know that it is as good as, or better than, the original policy. The process of making a new policy that improves on an original policy, by making it greedy with respect to the value function of\n",
    "the original policy, is called policy improvement. If new policy is as good as old one then $v_{\\pi}$ and $v_{\\pi'}$ are both optimal policy $v_{*}$."
   ]
  },
  {
   "cell_type": "markdown",
   "metadata": {},
   "source": [
    "\\begin{align*}\n",
    "v_{*}(s) = v_{\\pi}(s) = v_{\\pi'}(s) = \\max_a q_{\\pi}(s, a)\n",
    "\\end{align*}"
   ]
  },
  {
   "cell_type": "markdown",
   "metadata": {},
   "source": [
    "# Policy Iteration"
   ]
  },
  {
   "cell_type": "markdown",
   "metadata": {},
   "source": [
    "Once a policy, $\\pi$, has been improved using $v_{\\pi}$ to yield a better policy, $\\pi'$, we can then compute $v_{\\pi'}$ and improve it again to yield an even better $\\pi''$. Each policy is guaranteed to be a strict improvement over the previous one (unless it is already optimal). Because a finite MDP has only a finite number of policies, this process must converge to an optimal policy and optimal value function in a finite number of iterations. This way of finding an optimal policy is called policy iteration."
   ]
  },
  {
   "cell_type": "markdown",
   "metadata": {},
   "source": [
    "1. Initialization\n",
    "   - $V(s) \\in \\mathbb{R}$ and $\\pi(s) \\in A(s)$ arbitrarily for all $s \\in S$ <br>\n",
    "<br>\n",
    "2. Policy Evaluation\n",
    "    - Loop: <br>\n",
    "        + $\\Delta \\leftarrow 0$\n",
    "        + Loop for each$s \\in S$\n",
    "            + $v \\leftarrow V(s)$\n",
    "            + $V(s) \\leftarrow \\sum_{s', r}^{} p(s', r \\ |s, \\pi(s)) [r + \\gamma V(s')]$\n",
    "            + $\\Delta \\leftarrow max(\\Delta, |v-V(s)|)$\n",
    "    <br>\n",
    "    - Until $\\Delta < \\theta$\n",
    "<br><br>\n",
    "3. Policy Improvement\n",
    "    - policy_stable $\\leftarrow$ True\n",
    "    - Loop for each$s \\in S$\n",
    "        + old_action $\\leftarrow \\pi(s)$\n",
    "        + $\\pi(s) \\leftarrow \\text{argmax}_a \\sum_{s', r}^{} p(s',r{\\space}|s, a)[r(s,a,s') + {\\gamma}v_{k}(s')]$\n",
    "        + if old_action $\\neq \\pi(s)$ then policy_stable $\\leftarrow$ False\n",
    "    - if policy_stable then stop and return $V \\approx v_*$ and $\\pi \\approx \\pi_*$ else goto 2"
   ]
  },
  {
   "cell_type": "markdown",
   "metadata": {},
   "source": [
    "### Example 4.2 Jack’s Car Rental"
   ]
  },
  {
   "cell_type": "code",
   "execution_count": 3,
   "metadata": {},
   "outputs": [
    {
     "name": "stdout",
     "output_type": "stream",
     "text": [
      "iteration#1 -> 332 policies changed.\n",
      "iteration#2 -> 286 policies changed.\n",
      "iteration#3 -> 83 policies changed.\n",
      "iteration#4 -> 19 policies changed.\n",
      "iteration#5 -> 0 policies changed.\n",
      "----------\n",
      "Values\n",
      "[[546.4 552.9 558.7 564.1 569.4 574.4 579.2 583.8 588.0 592.1 595.9 599.6\n",
      "  603.1 606.5 609.6 612.7 615.6 618.3 620.9 623.4 625.6]\n",
      " [542.5 549.1 555.1 560.7 566.1 571.4 576.4 581.2 585.8 590.0 594.1 597.9\n",
      "  601.6 605.1 608.5 611.6 614.7 617.6 620.3 622.8 625.1]\n",
      " [538.3 545.1 551.3 557.1 562.7 568.1 573.4 578.4 583.2 587.8 592.0 596.1\n",
      "  599.9 603.6 607.1 610.4 613.5 616.5 619.3 621.9 624.3]\n",
      " [534.0 540.9 547.2 553.3 559.1 564.7 570.1 575.4 580.4 585.2 589.6 593.9\n",
      "  597.9 601.7 605.3 608.7 612.0 615.1 618.0 620.7 623.1]\n",
      " [529.3 536.4 543.0 549.2 555.3 561.1 566.7 572.1 577.4 582.3 586.9 591.3\n",
      "  595.5 599.5 603.2 606.8 610.2 613.4 616.4 619.3 621.8]\n",
      " [524.5 531.8 538.5 545.0 551.2 557.3 563.1 568.7 574.1 579.2 584.0 588.6\n",
      "  592.9 597.0 600.9 604.6 608.1 611.5 614.6 617.6 620.2]\n",
      " [519.4 526.8 533.8 540.5 547.0 553.2 559.3 565.1 570.7 575.9 580.9 585.6\n",
      "  590.1 594.4 598.4 602.3 605.9 609.4 612.6 615.7 618.4]\n",
      " [514.0 521.6 528.8 535.8 542.5 549.0 555.2 561.3 567.0 572.5 577.6 582.5\n",
      "  587.2 591.6 595.8 599.7 603.5 607.1 610.5 613.6 616.4]\n",
      " [508.3 516.2 523.6 530.8 537.8 544.5 551.0 557.2 563.2 568.8 574.1 579.2\n",
      "  584.0 588.6 592.9 597.0 600.9 604.6 608.1 611.4 614.2]\n",
      " [502.3 510.3 518.2 525.6 532.8 539.8 546.5 553.0 559.2 565.0 570.5 575.7\n",
      "  580.7 585.4 589.9 594.1 598.1 602.0 605.6 608.9 611.9]\n",
      " [495.8 504.3 512.3 520.2 527.6 534.8 541.8 548.5 554.9 560.9 566.6 572.0\n",
      "  577.1 582.0 586.6 591.0 595.1 599.1 602.8 606.3 609.3]\n",
      " [489.2 497.8 506.3 514.3 522.2 529.6 536.8 543.8 550.4 556.6 562.5 568.0\n",
      "  573.3 578.4 583.1 587.6 591.9 596.0 599.8 603.4 606.5]\n",
      " [482.1 491.2 499.8 508.3 516.3 524.2 531.6 538.8 545.6 552.0 558.1 563.8\n",
      "  569.3 574.4 579.3 584.0 588.4 592.5 596.5 600.1 603.4]\n",
      " [474.9 484.1 493.2 501.8 510.3 518.3 526.2 533.5 540.5 547.1 553.3 559.2\n",
      "  564.8 570.1 575.1 579.9 584.4 588.7 592.7 596.5 599.8]\n",
      " [467.3 476.9 486.1 495.2 503.8 512.3 520.3 527.9 535.0 541.8 548.1 554.2\n",
      "  559.9 565.3 570.5 575.3 579.9 584.3 588.4 592.3 595.7]\n",
      " [459.5 469.3 478.9 488.1 497.2 505.8 514.0 521.7 529.0 535.9 542.4 548.5\n",
      "  554.4 559.9 565.1 570.1 574.8 579.2 583.5 587.4 590.9]\n",
      " [451.6 461.5 471.3 480.9 490.1 498.8 507.1 514.9 522.3 529.3 535.9 542.1\n",
      "  548.0 553.6 558.9 564.0 568.7 573.3 577.6 581.6 585.4]\n",
      " [443.6 453.6 463.4 473.0 482.2 491.0 499.4 507.2 514.7 521.8 528.4 534.7\n",
      "  540.7 546.3 551.7 556.9 562.0 566.7 571.3 575.6 579.6]\n",
      " [435.0 444.9 454.8 464.4 473.6 482.4 490.8 498.7 506.2 513.3 520.0 526.4\n",
      "  532.7 538.7 544.3 549.7 554.9 560.0 564.7 569.3 573.6]\n",
      " [425.6 435.5 445.4 455.0 464.2 473.1 481.4 489.4 496.9 504.2 511.3 518.0\n",
      "  524.4 530.7 536.7 542.3 547.7 552.9 558.0 562.7 567.3]\n",
      " [415.8 425.7 435.5 445.2 454.4 463.2 471.6 479.5 487.4 494.9 502.2 509.3\n",
      "  516.0 522.4 528.7 534.7 540.3 545.7 550.9 556.0 560.7]]\n",
      "----------\n",
      "Policy\n",
      "[[ 5  5  5  4  3  3  2  2  2  2  2  2  1  1  1  1  1  1  0  0  0]\n",
      " [ 5  5  5  4  3  2  2  1  1  1  1  1  1  0  0  0  0  0  0  0  0]\n",
      " [ 5  5  5  4  3  2  1  1  0  0  0  0  0  0  0  0  0  0  0  0  0]\n",
      " [ 5  5  5  4  3  2  1  0  0  0  0  0  0  0  0  0  0  0  0  0  0]\n",
      " [ 5  5  5  4  3  2  1  0  0  0  0  0  0  0  0  0  0  0  0  0  0]\n",
      " [ 5  5  5  4  3  2  1  0  0  0  0  0  0  0  0  0  0  0  0  0  0]\n",
      " [ 5  5  5  4  3  2  1  0  0  0  0  0  0  0  0  0  0  0  0  0  0]\n",
      " [ 5  5  4  4  3  2  1  0  0  0  0  0  0  0  0  0  0  0  0  0  0]\n",
      " [ 5  5  4  3  3  2  1  0  0  0  0  0  0  0  0  0  0  0  0  0  0]\n",
      " [ 5  4  4  3  2  2  1  0  0  0  0  0  0  0  0  0  0  0  0  0  0]\n",
      " [ 5  4  3  3  2  1  1  0  0  0  0  0  0  0  0  0  0  0  0  0  0]\n",
      " [ 4  4  3  2  2  1  0  0  0  0  0  0  0  0  0  0  0  0  0  0  0]\n",
      " [ 3  3  3  2  1  1  0  0  0  0  0  0  0  0  0  0  0  0  0  0  0]\n",
      " [ 3  2  2  2  1  0  0  0  0  0  0  0  0  0  0  0  0  0  0  0  0]\n",
      " [ 2  2  1  1  1  0  0  0  0  0  0  0  0  0  0  0  0  0  0  0  0]\n",
      " [ 1  1  1  0  0  0  0  0  0  0  0  0  0  0  0  0  0  0  0  0  0]\n",
      " [ 1  0  0  0  0  0  0  0  0  0  0  0  0  0  0  0  0  0  0  0 -1]\n",
      " [ 0  0  0  0  0  0  0  0  0  0  0  0  0  0  0 -1 -1 -1 -1 -1 -1]\n",
      " [ 0  0  0  0  0  0  0  0  0  0  0 -1 -1 -1 -1 -1 -2 -2 -2 -2 -2]\n",
      " [ 0  0  0  0  0  0  0  0  0 -1 -1 -1 -2 -2 -2 -2 -2 -3 -3 -3 -3]\n",
      " [ 0  0  0  0  0  0  0  0 -1 -1 -2 -2 -2 -3 -3 -3 -3 -3 -4 -4 -4]]\n"
     ]
    }
   ],
   "source": [
    "import numpy as np\n",
    "from math import factorial\n",
    "np.set_printoptions(formatter={'float': lambda x: \"{0:0.1f}\".format(x)})\n",
    "\n",
    "actions = np.arange(-5, 6)\n",
    "gamma = 0.9\n",
    "theta = 1e-4\n",
    "policy = np.zeros((21, 21), dtype=int)\n",
    "value = np.zeros((21, 21))\n",
    "\n",
    "def poisson(n, l):\n",
    "    return np.exp(-l) * pow(l, n) / factorial(n)\n",
    "\n",
    "prob = np.array([poisson(i, 3)*poisson(j, 4) for i in range(11) for j in range(11)])\n",
    "def EG(state, a, v):\n",
    "    returns = (-2) * abs(a)\n",
    "    state = (min(state[0] - a, 20), min(state[1] + a, 20))\n",
    "    reward = np.array([(min(state[0], i)+min(state[1], j))*10\n",
    "                       for i in range(11) for j in range(11)])\n",
    "    new_state = np.array([(min(state[0] - min(state[0], i) + 3, 20),\n",
    "                           min(state[1] - min(state[1], j) + 2, 20))\n",
    "                          for i in range(11) for j in range(11)])\n",
    "    returns += np.sum(prob * (reward + gamma * v[new_state[:,0], new_state[:,1]]))\n",
    "    return returns\n",
    "\n",
    "states = [(i, j) for i in range(21) for j in range(21)]\n",
    "iteration = 0\n",
    "while True:\n",
    "\n",
    "    while True:\n",
    "        delta = 0\n",
    "        for state in states:\n",
    "            v_prev = value[state[0], state[1]]\n",
    "            value[state[0], state[1]] = EG([state[0], state[1]], policy[state[0], state[1]], value)\n",
    "            delta = max(delta, abs(value[state[0], state[1]]-v_prev))\n",
    "        if delta < theta:\n",
    "            break\n",
    "\n",
    "    policy_stable = True\n",
    "    policy_changes = 0\n",
    "    for state in states:\n",
    "        action_returns = []\n",
    "        old_action = policy[state[0], state[1]]\n",
    "        for action in actions:\n",
    "            if (0 <= action <= state[0]) or (state[1] >= abs(action) > 0):\n",
    "                action_returns.append(EG([state[0], state[1]], action, value))\n",
    "            else:\n",
    "                action_returns.append(-np.Infinity)\n",
    "        policy[state[0], state[1]] = actions[np.argmax(action_returns)]\n",
    "        if old_action != policy[state[0], state[1]]:\n",
    "            policy_stable = False\n",
    "            policy_changes += 1\n",
    "\n",
    "    print('iteration#{} -> {} policies changed.'.format(iteration+1, policy_changes))\n",
    "\n",
    "    if policy_stable:\n",
    "        break\n",
    "    \n",
    "    iteration += 1\n",
    "\n",
    "    \n",
    "print('-'*10)\n",
    "print('Values')\n",
    "print(value[::-1])\n",
    "print('-'*10)\n",
    "print('Policy')\n",
    "print(policy[::-1])\n",
    "\n",
    "    "
   ]
  },
  {
   "cell_type": "markdown",
   "metadata": {},
   "source": [
    "#### Exercise 4.4 The policy iteration algorithm on page 80 has a subtle bug in that it may never terminate if the policy continually switches between two or more policies that are equally good. This is ok for pedagogy, but not for actual use. Modify the pseudocode so that convergence is guaranteed."
   ]
  },
  {
   "cell_type": "markdown",
   "metadata": {},
   "source": [
    "Answer: The problem is that we are considering only 1 action for each state $V(s) \\leftarrow \\sum_{s', r}^{} p(s', r \\ |s, \\pi(s)) [r + \\gamma V(s')]$. If we add another dimension to policy array and keep track of policies that are equally good for each state then we can gurentee convergence $V(s) \\leftarrow \\sum_{a}\\pi(a|s)\\sum_{s', r}^{} p(s', r \\ |s, a)) [r + \\gamma V(s')]$."
   ]
  },
  {
   "cell_type": "markdown",
   "metadata": {},
   "source": [
    "#### Exercise 4.5 How would policy iteration be defined for action values? Give a complete algorithm for computing $q_*$, analogous to that on page 80 for computing $v_*$. Please pay special attention to this exercise, because the ideas involved will be used throughout the rest of the book."
   ]
  },
  {
   "cell_type": "markdown",
   "metadata": {},
   "source": [
    "Answer:"
   ]
  },
  {
   "cell_type": "markdown",
   "metadata": {},
   "source": [
    "1. Initialization\n",
    "   - $Q(s, a) \\in \\mathbb{R}$ and $\\pi(s) \\in A(s)$ arbitrarily for all $s \\in S$ and $a \\in A(s)$ <br>\n",
    "<br>\n",
    "2. Policy Evaluation\n",
    "    - Loop: <br>\n",
    "        + $\\Delta \\leftarrow 0$\n",
    "        + Loop for each$s \\in S$ and $a \\in A(s)$\n",
    "            + $q \\leftarrow Q(s, a)$\n",
    "            + $Q(s, a) \\leftarrow \\sum_{s', r}^{} p(s',r{\\space}|s, a)[r + {\\gamma}\\sum_{a'}^{} {\\pi}(a'|s')Q(s', a')]$\n",
    "            + $\\Delta \\leftarrow max(\\Delta, |q-Q(s, a)|)$\n",
    "    <br>\n",
    "    - Until $\\Delta < \\theta$\n",
    "<br><br>\n",
    "3. Policy Improvement\n",
    "    - policy_stable $\\leftarrow$ True\n",
    "    - Loop for each$s \\in S$\n",
    "        + old_action $\\leftarrow \\pi(s)$\n",
    "        + $\\pi(s) \\leftarrow \\text{argmax}_{s,a} Q(s,a)$\n",
    "        + if old_action $\\neq \\pi(s)$ then policy_stable $\\leftarrow$ False\n",
    "    - if policy_stable then stop and return $V \\approx v_*$ and $\\pi \\approx \\pi_*$ else goto 2"
   ]
  },
  {
   "cell_type": "markdown",
   "metadata": {},
   "source": [
    "#### Exercise 4.6 Suppose you are restricted to considering only policies that are $\\epsilon$-soft, meaning that the probability of selecting each action in each state, $s$, is at least $\\epsilon/|A(s)|$. Describe qualitatively the changes that would be required in each of the steps 3, 2, and 1, in that order, of the policy iteration algorithm for $v_*$ on page 80."
   ]
  },
  {
   "cell_type": "markdown",
   "metadata": {},
   "source": [
    "Answer: ?"
   ]
  },
  {
   "cell_type": "markdown",
   "metadata": {},
   "source": [
    "#### Exercise 4.7 (programming) Write a program for policy iteration and re-solve Jack’s car rental problem with the following changes. One of Jack’s employees at the first location rides a bus home each night and lives near the second location. She is happy to shuttle one car to the second location for free. Each additional car still costs \\$2, as do all cars moved in the other direction. In addition, Jack has limited parking space at each location. If more than 10 cars are kept overnight at a location (after any moving of cars), then an additional cost of $4 must be incurred to use a second parking lot (independent of how many cars are kept there). These sorts of nonlinearities and arbitrary dynamics often occur in real problems and cannot easily be handled by optimization methods other than dynamic programming. To check your program, first replicate the results given for the original problem."
   ]
  },
  {
   "cell_type": "code",
   "execution_count": 4,
   "metadata": {},
   "outputs": [
    {
     "name": "stdout",
     "output_type": "stream",
     "text": [
      "iteration#1 -> 285 policies changed.\n",
      "iteration#2 -> 226 policies changed.\n",
      "iteration#3 -> 38 policies changed.\n",
      "iteration#4 -> 2 policies changed.\n",
      "iteration#5 -> 0 policies changed.\n",
      "----------\n",
      "Values\n",
      "[[382.3 388.5 394.0 399.4 404.3 409.0 413.4 417.6 421.4 425.0 428.5 431.7\n",
      "  434.8 437.7 440.4 443.1 445.5 447.9 450.0 451.9 453.6]\n",
      " [378.3 384.6 390.5 396.0 401.4 406.3 411.0 415.4 419.6 423.4 427.0 430.5\n",
      "  433.7 436.8 439.6 442.3 444.9 447.2 449.4 451.4 453.1]\n",
      " [373.9 380.4 386.6 392.5 398.0 403.4 408.3 413.0 417.4 421.6 425.4 429.0\n",
      "  432.4 435.5 438.5 441.3 443.9 446.4 448.6 450.7 452.4]\n",
      " [369.2 375.9 382.4 388.6 394.5 400.0 405.4 410.3 415.0 419.4 423.4 427.1\n",
      "  430.6 433.9 437.0 439.9 442.7 445.2 447.6 449.7 451.5]\n",
      " [364.2 371.2 377.9 384.4 390.6 396.5 402.0 407.4 412.3 416.8 421.0 424.9\n",
      "  428.6 432.0 435.3 438.3 441.1 443.8 446.2 448.4 450.4]\n",
      " [359.0 366.2 373.2 379.9 386.4 392.6 398.5 404.0 409.1 413.8 418.2 422.3\n",
      "  426.1 429.8 433.2 436.3 439.3 442.1 444.7 447.0 449.0]\n",
      " [353.7 361.0 368.2 375.2 381.9 388.4 394.6 400.3 405.6 410.5 415.0 419.3\n",
      "  423.4 427.2 430.7 434.1 437.2 440.2 442.9 445.3 447.4]\n",
      " [348.4 355.7 363.0 370.2 377.2 383.9 390.4 396.2 401.7 406.7 411.5 416.0\n",
      "  420.2 424.2 428.0 431.6 434.9 438.0 440.8 443.4 445.6]\n",
      " [343.1 350.4 357.7 365.0 372.2 379.2 385.8 391.8 397.4 402.6 407.5 412.2\n",
      "  416.7 421.0 425.0 428.8 432.3 435.6 438.6 441.3 443.6]\n",
      " [337.5 345.1 352.4 359.7 367.0 374.2 380.9 387.0 392.7 398.1 403.2 408.1\n",
      "  412.9 417.4 421.7 425.7 429.4 432.9 436.1 438.9 441.4]\n",
      " [331.8 339.5 347.1 354.4 361.7 369.0 375.8 382.0 387.9 393.4 398.7 403.8\n",
      "  408.8 413.6 418.1 422.4 426.4 430.0 433.4 436.4 439.0]\n",
      " [325.8 333.8 341.5 349.1 356.4 363.7 370.6 377.0 382.9 388.6 394.0 399.4\n",
      "  404.6 409.6 414.4 418.9 423.1 426.9 430.5 433.6 436.3]\n",
      " [319.4 327.8 335.8 343.5 351.1 358.4 365.4 371.8 377.9 383.7 389.3 394.8\n",
      "  400.2 405.5 410.5 415.2 419.5 423.6 427.2 430.5 433.3]\n",
      " [312.8 321.4 329.8 337.8 345.5 353.1 360.1 366.7 372.9 378.8 384.5 390.2\n",
      "  395.7 401.1 406.3 411.2 415.7 419.9 423.7 427.1 430.0]\n",
      " [305.9 314.8 323.4 331.8 339.8 347.5 354.7 361.4 367.7 373.7 379.5 385.3\n",
      "  391.0 396.5 401.8 406.8 411.5 415.8 419.7 423.2 426.3]\n",
      " [298.6 307.9 316.8 325.4 333.8 341.7 348.9 355.7 362.1 368.2 374.1 379.9\n",
      "  385.7 391.4 396.8 401.9 406.6 411.1 415.1 418.7 421.9]\n",
      " [291.2 300.6 309.9 318.8 327.3 335.2 342.6 349.4 355.9 362.0 368.0 373.9\n",
      "  379.8 385.5 391.0 396.2 401.0 405.5 409.7 413.4 416.7]\n",
      " [283.7 293.2 302.6 311.6 320.1 328.0 335.4 342.3 348.8 355.0 361.1 367.0\n",
      "  372.9 378.7 384.3 389.5 394.4 399.0 403.5 407.7 411.4]\n",
      " [275.6 285.1 294.4 303.4 312.0 319.9 327.4 334.3 340.8 347.1 353.1 359.1\n",
      "  365.1 370.9 376.7 382.3 387.5 392.4 397.0 401.5 405.7]\n",
      " [266.7 276.2 285.5 294.5 303.1 311.1 318.5 325.5 332.3 338.8 345.1 351.1\n",
      "  357.1 363.1 368.9 374.7 380.3 385.5 390.4 395.0 399.5]\n",
      " [257.3 266.8 276.1 285.2 293.7 301.7 309.1 316.5 323.5 330.3 336.8 343.1\n",
      "  349.1 355.1 361.1 366.9 372.7 378.3 383.5 388.4 393.0]]\n",
      "----------\n",
      "Policy\n",
      "[[ 5  5  5  4  3  3  2  2  2  1  1  1  1  0  0  0  0  0  0  0  0]\n",
      " [ 5  5  4  4  3  2  2  1  1  1  0  0  0  0  0  0  0  0  0  0  0]\n",
      " [ 5  5  4  3  3  2  1  1  0  0  0  0  0  0  0  0  0  0  0  0  0]\n",
      " [ 5  4  4  3  2  2  1  0  0  0  0  0  0  0  0  0  0  0  0  0  0]\n",
      " [ 5  4  3  3  2  1  1  0  0  0  0  0  0  0  0  0  0  0  0  0  0]\n",
      " [ 5  4  3  2  2  1  0  0  0  0  0  0  0  0  0  0  0  0  0  0  0]\n",
      " [ 5  4  3  2  1  1  0  0  0  0  0  0  0  0  0  0  0  0  0  0  0]\n",
      " [ 5  4  3  2  1  0  0  0  0  0  0  0  0  0  0  0  0  0  0  0  0]\n",
      " [ 5  4  3  2  1  0  0  0  0  0  0  0  0  0  0  0  0  0  0  0  0]\n",
      " [ 5  4  3  2  1  0  0  0  0  0  0  0  0  0  0  0  0  0  0  0  0]\n",
      " [ 4  4  3  2  1  0  0  0  0  0  0  0  0  0  0  0  0  0  0  0  0]\n",
      " [ 4  3  3  2  1  0  0  0  0  0  0  0  0  0  0  0  0  0  0  0  0]\n",
      " [ 3  3  2  2  1  0  0  0  0  0  0  0  0  0  0  0  0  0  0  0  0]\n",
      " [ 3  2  2  1  1  0  0  0  0  0  0  0  0  0  0  0  0  0  0  0  0]\n",
      " [ 2  2  1  1  0  0  0  0  0  0  0  0  0  0  0  0  0  0  0  0  0]\n",
      " [ 2  1  1  0  0  0  0  0  0  0  0  0  0  0  0  0  0  0  0  0  0]\n",
      " [ 1  1  0  0  0  0  0  0  0  0  0  0  0  0  0  0  0  0  0  0 -1]\n",
      " [ 0  0  0  0  0  0  0  0  0  0  0  0  0  0  0  0  0 -1 -1 -1 -1]\n",
      " [ 0  0  0  0  0  0  0  0  0  0  0  0  0 -1 -1 -1 -1 -1 -2 -2 -2]\n",
      " [ 0  0  0  0  0  0  0  0 -1 -1 -1 -1 -1 -1 -2 -2 -2 -2 -2 -3 -3]\n",
      " [ 0  0  0  0  0  0  0 -1 -1 -2 -2 -2 -2 -2 -2 -3 -3 -3 -3 -3 -4]]\n"
     ]
    }
   ],
   "source": [
    "actions = np.arange(-5, 6)\n",
    "gamma = 0.9\n",
    "theta = 1e-4\n",
    "policy = np.zeros((21, 21), dtype=int)\n",
    "value = np.zeros((21, 21))\n",
    "\n",
    "def poisson(n, l):\n",
    "    return np.exp(-l) * pow(l, n) / factorial(n)\n",
    "\n",
    "prob = np.array([poisson(i, 3)*poisson(j, 4)*poisson(k, 3)*poisson(l, 2)\n",
    "                for i in range(8) for j in range(10)\n",
    "                for k in range(8) for l in range(6)])\n",
    "def EG(state, a, v):\n",
    "    if a > 0: returns = 2 # shuttle one car\n",
    "    returns = (-2) * abs(a)\n",
    "    state = (min(state[0] - a, 20), min(state[1] + a, 20))\n",
    "    reward = np.array([(min(state[0], i)+min(state[1], j))*10\n",
    "                       + (4 if (min(state[0] - min(state[0], i) + k, 20) > 10\n",
    "                                or min(state[1] - min(state[1], j) + l, 20) > 10)\n",
    "                          else 0) # more than 10 car penalty\n",
    "                       for i in range(8) for j in range(10)\n",
    "                       for k in range(8) for l in range(6)])\n",
    "    new_state = np.array([(min(state[0] - min(state[0], i) + k, 20),\n",
    "                           min(state[1] - min(state[1], j) + l, 20))\n",
    "                          for i in range(8) for j in range(10)\n",
    "                          for k in range(8) for l in range(6)])\n",
    "    \n",
    "    returns += np.sum(prob * (reward + gamma * v[new_state[:,0], new_state[:,1]]))\n",
    "    return returns\n",
    "\n",
    "states = [(i, j) for i in range(21) for j in range(21)]\n",
    "iteration = 0\n",
    "while True:\n",
    "\n",
    "    while True:\n",
    "        delta = 0\n",
    "        for state in states:\n",
    "            v_prev = value[state[0], state[1]]\n",
    "            value[state[0], state[1]] = EG([state[0], state[1]], policy[state[0], state[1]], value)\n",
    "            delta = max(delta, abs(value[state[0], state[1]]-v_prev))\n",
    "        if delta < theta:\n",
    "            break\n",
    "\n",
    "    policy_stable = True\n",
    "    policy_changes = 0\n",
    "    for state in states:\n",
    "        action_returns = []\n",
    "        old_action = policy[state[0], state[1]]\n",
    "        for action in actions:\n",
    "            if (0 <= action <= state[0]) or (state[1] >= abs(action) > 0):\n",
    "                action_returns.append(EG([state[0], state[1]], action, value))\n",
    "            else:\n",
    "                action_returns.append(-np.Infinity)\n",
    "        policy[state[0], state[1]] = actions[np.argmax(action_returns)]\n",
    "        if old_action != policy[state[0], state[1]]:\n",
    "            policy_stable = False\n",
    "            policy_changes += 1\n",
    "\n",
    "    print('iteration#{} -> {} policies changed.'.format(iteration+1, policy_changes))\n",
    "\n",
    "    if policy_stable:\n",
    "        break\n",
    "\n",
    "    iteration += 1\n",
    "    \n",
    "print('-'*10)\n",
    "print('Values')\n",
    "print(value[::-1])\n",
    "print('-'*10)\n",
    "print('Policy')\n",
    "print(policy[::-1])\n"
   ]
  },
  {
   "cell_type": "markdown",
   "metadata": {},
   "source": [
    "# Value Iteration"
   ]
  },
  {
   "cell_type": "markdown",
   "metadata": {},
   "source": [
    "We can truncate policy evaluation to just one sweep and still we are guaranteed with convergence.This can be written as a particularly simple update operation that combines the policy improvement and truncated policy evaluation steps:"
   ]
  },
  {
   "cell_type": "markdown",
   "metadata": {},
   "source": [
    "\\begin{equation*}\n",
    "v_{k+1}(s) \\doteq  \\max_a{\\mathbb{E}}_{\\pi} [R_{t+1} + \\gamma v_k(s')| S_t = s, A_t=a] = \\max_a \\sum_{s', r}^{} p(s', r \\ |s, a) [r + \\gamma v_k(s')]\n",
    "\\end{equation*}"
   ]
  },
  {
   "cell_type": "markdown",
   "metadata": {},
   "source": [
    "For arbitrary $v_0$, the sequence {$v_k$} can be shown to converge to $v_*$ under the same conditions that guarantee the existence of $v_*$."
   ]
  },
  {
   "cell_type": "markdown",
   "metadata": {},
   "source": [
    "- a small threshold $\\theta > 0$ determining accuracy of estimation Initialize $V(s)$, for all $s \\in S+$, arbitrarily except that $V(\\text{terminal}) = 0$ <br>\n",
    "- Loop: <br>\n",
    "    + $\\Delta \\leftarrow 0$\n",
    "    + Loop for each$s \\in S$\n",
    "        + $v \\leftarrow V(s)$\n",
    "        + $V(s) \\leftarrow \\max_a \\sum_{s', r}^{} p(s', r \\ |s, a) [r + \\gamma V(s')]$\n",
    "        + $\\Delta \\leftarrow max(\\Delta, |v-V(s)|)$\n",
    "<br>\n",
    "- Until $\\Delta < \\theta$\n",
    "- Output a deterministic policy, $\\pi \\approx \\pi_*$, such that\n",
    "    + $\\pi(s) = \\text{argmax}_a \\sum_{s', r}p(s', r \\ |s, a) [r + \\gamma V(s')]$"
   ]
  },
  {
   "cell_type": "markdown",
   "metadata": {},
   "source": [
    "### Example 4.3 Gambler’s Problem"
   ]
  },
  {
   "cell_type": "code",
   "execution_count": 7,
   "metadata": {},
   "outputs": [
    {
     "name": "stdout",
     "output_type": "stream",
     "text": [
      "The autoreload extension is already loaded. To reload it, use:\n",
      "  %reload_ext autoreload\n"
     ]
    },
    {
     "data": {
      "image/png": "[encoded data removed]",
      "text/plain": [
       "<Figure size 720x576 with 2 Axes>"
      ]
     },
     "metadata": {},
     "output_type": "display_data"
    }
   ],
   "source": [
    "import matplotlib\n",
    "import matplotlib.pyplot as plt\n",
    "import sys, warnings\n",
    "if not sys.warnoptions: warnings.simplefilter(\"ignore\")\n",
    "%matplotlib inline\n",
    "matplotlib.rcParams['figure.figsize'] = (10, 8)\n",
    "%load_ext autoreload\n",
    "%autoreload 2\n",
    "\n",
    "def gambler(ph=0.4, theta=1e-9):\n",
    "    values = np.zeros(101)\n",
    "    policy = np.zeros(101)\n",
    "    values[100] = 1\n",
    "\n",
    "    while True:\n",
    "        delta = 0\n",
    "        for state in range(1,100):\n",
    "            v_prev = values[state]\n",
    "            for action in range(min(state, 100-state)+1):\n",
    "                values[state] = max(values[state], ph*values[state+action]+(1-ph)*values[state-action])\n",
    "            delta = max(delta, abs(values[state]-v_prev))\n",
    "        if delta < theta:\n",
    "            break\n",
    "\n",
    "    for state in range(1,100):\n",
    "        actions = np.arange(min(state, 100 - state) + 1)\n",
    "        action_returns = []\n",
    "        for action in  range(min(state, 100-state)+1):\n",
    "            action_returns.append(ph * values[state + action] + (1 - ph) * values[state - action])\n",
    "        policy[state] = actions[np.argmax(np.round(action_returns[1:], 4))] + 1\n",
    "\n",
    "    plt.subplot(2, 1, 1)\n",
    "    plt.bar(np.arange(101), policy)\n",
    "    plt.ylabel('Final policy (stake)')\n",
    "\n",
    "    plt.subplot(2, 1, 2)\n",
    "    plt.plot(np.arange(101), values, '-o', markersize=0.7, lw=1.5)\n",
    "    plt.ylabel('Value estimates')\n",
    "    plt.xlabel('Capital')\n",
    "\n",
    "    plt.show()\n",
    "    \n",
    "gambler()\n"
   ]
  },
  {
   "cell_type": "markdown",
   "metadata": {},
   "source": [
    "#### Exercise 4.8 Why does the optimal policy for the gambler’s problem have such a curious form? In particular, for capital of 50 it bets it all on one flip, but for capital of 51 it does not. Why is this a good policy?"
   ]
  },
  {
   "cell_type": "markdown",
   "metadata": {},
   "source": [
    "Answer: For the capital of 50, the gambler has a 40% chance of gaining +1 and a 60% chance of 0, therefore, the best policy is to stake all 50. In case of the capital of 51, if the gambler stake all his capital and win the reward is 0 also if he loses the reward is 0 so one of the good policies is to stake 1 capital (or 49)."
   ]
  },
  {
   "cell_type": "markdown",
   "metadata": {},
   "source": [
    "#### Exercise 4.9 (programming) Implement value iteration for the gambler’s problem and solve it for $p_h = 0.25$ and $p_h = 0.55$. In programming, you may find it convenient to introduce two dummy states corresponding to termination with capital of 0 and 100, giving them values of 0 and 1 respectively. Show your results graphically, as in Figure 4.3. Are your results stable as $\\theta \\rightarrow 0$?"
   ]
  },
  {
   "cell_type": "code",
   "execution_count": 13,
   "metadata": {
    "scrolled": false
   },
   "outputs": [
    {
     "data": {
      "image/png": "[encoded data removed]",
      "text/plain": [
       "<Figure size 720x576 with 2 Axes>"
      ]
     },
     "metadata": {},
     "output_type": "display_data"
    }
   ],
   "source": [
    "gambler(0.25, 1e-12)"
   ]
  },
  {
   "cell_type": "code",
   "execution_count": 12,
   "metadata": {},
   "outputs": [
    {
     "data": {
      "image/png": "[encoded data removed]",
      "text/plain": [
       "<Figure size 720x576 with 2 Axes>"
      ]
     },
     "metadata": {},
     "output_type": "display_data"
    }
   ],
   "source": [
    "gambler(0.55, 1e-12)"
   ]
  },
  {
   "cell_type": "markdown",
   "metadata": {},
   "source": [
    "#### Exercise 4.10 What is the analog of the value iteration update (4.10) for action values, $q_{k+1}(s, a)$?"
   ]
  },
  {
   "cell_type": "markdown",
   "metadata": {},
   "source": [
    "Answer:"
   ]
  },
  {
   "cell_type": "markdown",
   "metadata": {},
   "source": [
    "\\begin{align*}\n",
    "q_{k+1}(s, a) = \\sum_{s', r}^{} p(s',r{\\space}|s, a)[r(s,a,s') + {\\gamma}\\max_{a'}q_{k}(s', a')]\n",
    "\\end{align*}"
   ]
  }
 ],
 "metadata": {
  "kernelspec": {
   "display_name": "Python 3",
   "language": "python",
   "name": "python3"
  },
  "language_info": {
   "codemirror_mode": {
    "name": "ipython",
    "version": 3
   },
   "file_extension": ".py",
   "mimetype": "text/x-python",
   "name": "python",
   "nbconvert_exporter": "python",
   "pygments_lexer": "ipython3",
   "version": "3.6.5"
  }
 },
 "nbformat": 4,
 "nbformat_minor": 2
}
